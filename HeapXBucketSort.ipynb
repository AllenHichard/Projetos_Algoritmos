{
  "nbformat": 4,
  "nbformat_minor": 0,
  "metadata": {
    "colab": {
      "name": "UniqueItems.ipynb",
      "provenance": [],
      "collapsed_sections": [],
      "include_colab_link": true
    },
    "kernelspec": {
      "name": "python3",
      "display_name": "Python 3"
    }
  },
  "cells": [
    {
      "cell_type": "markdown",
      "metadata": {
        "id": "view-in-github",
        "colab_type": "text"
      },
      "source": [
        "<a href=\"https://colab.research.google.com/github/AllenHichard/Projetos_Algoritmos/blob/master/HeapXBucketSort.ipynb\" target=\"_parent\"><img src=\"https://colab.research.google.com/assets/colab-badge.svg\" alt=\"Open In Colab\"/></a>"
      ]
    },
    {
      "cell_type": "markdown",
      "metadata": {
        "id": "EoORkOphIMc-"
      },
      "source": [
        "Algoritmos"
      ]
    },
    {
      "cell_type": "code",
      "metadata": {
        "id": "dwcSIPydC8pn"
      },
      "source": [
        "def bucket_sort(input_list):\n",
        "    # Find maximum value in the list and use length of the list to determine which value in the list goes into which bucket\n",
        "    max_value = max(input_list)\n",
        "    size = max_value / len(input_list)\n",
        "\n",
        "    # Create n empty buckets where n is equal to the length of the input list\n",
        "    buckets_list = []\n",
        "    for x in range(len(input_list)):\n",
        "        buckets_list.append([])\n",
        "\n",
        "        # Put list elements into different buckets based on the size\n",
        "    for i in range(len(input_list)):\n",
        "        j = int(input_list[i] / size)\n",
        "        if j != len(input_list):\n",
        "            buckets_list[j].append(input_list[i])\n",
        "        else:\n",
        "            buckets_list[len(input_list) - 1].append(input_list[i])\n",
        "\n",
        "    # Sort elements within the buckets using Insertion Sort\n",
        "    for z in range(len(input_list)):\n",
        "        insertion_sort(buckets_list[z])\n",
        "\n",
        "    # Concatenate buckets with sorted elements into a single list\n",
        "    final_output = []\n",
        "    for x in range(len(input_list)):\n",
        "        final_output = final_output + buckets_list[x]\n",
        "    return final_output\n",
        "\n",
        "\n",
        "def insertion_sort(bucket):\n",
        "    for i in range (1, len (bucket)):\n",
        "        var = bucket[i]\n",
        "        j = i - 1\n",
        "        while (j >= 0 and var < bucket[j]):\n",
        "            bucket[j + 1] = bucket[j]\n",
        "            j = j - 1\n",
        "        bucket[j + 1] = var\n",
        "\n",
        "def heapify(array, n, i):\n",
        "    largest = i\n",
        "    left = 2*i + 1\n",
        "    right = 2*i + 2\n",
        "    if left < n and array[i] < array[left]:\n",
        "        largest = left\n",
        "    if right < n and array[largest] < array[right]:\n",
        "        largest = right\n",
        "    if largest != i:\n",
        "        array[i],array[largest] = array[largest], array[i]\n",
        "        heapify(array, n, largest)\n",
        "\n",
        "def heap_sort_in_place(array):\n",
        "    size = len(array)\n",
        "    for i in range(size//2-1, -1, -1):\n",
        "        heapify(array, size, i)\n",
        "    for i in range(size-1, 0, -1):\n",
        "        array[i], array[0] = array[0], array[i]\n",
        "        heapify(array, i, 0)\n",
        "\n",
        "\n",
        "\n",
        "def heap_sort_not_in_place(array):\n",
        "    heap = []\n",
        "    for element in array:\n",
        "        heappush(heap, element)\n",
        "    ordered = []\n",
        "\n",
        "    # While we have elements left in the heap\n",
        "    while heap:\n",
        "        ordered.append(heappop(heap))\n",
        "\n",
        "    #return array\n",
        "    return ordered\n",
        "\n",
        "\n",
        "def heappush(heap, item):\n",
        "    \"\"\"Push item onto heap, maintaining the heap invariant.\"\"\"\n",
        "    heap.append(item)\n",
        "    _siftdown(heap, 0, len(heap)-1)\n",
        "\n",
        "def _siftdown(heap, startpos, pos):\n",
        "    newitem = heap[pos]\n",
        "    # Follow the path to the root, moving parents down until finding a place\n",
        "    # newitem fits.\n",
        "    while pos > startpos:\n",
        "        parentpos = (pos - 1) >> 1\n",
        "        parent = heap[parentpos]\n",
        "        if newitem < parent:\n",
        "            heap[pos] = parent\n",
        "            pos = parentpos\n",
        "            continue\n",
        "        break\n",
        "    heap[pos] = newitem\n",
        "\n",
        "def heappop(heap):\n",
        "    \"\"\"Pop the smallest item off the heap, maintaining the heap invariant.\"\"\"\n",
        "    lastelt = heap.pop()    # raises appropriate IndexError if heap is empty\n",
        "    if heap:\n",
        "        returnitem = heap[0]\n",
        "        heap[0] = lastelt\n",
        "        _siftup(heap, 0)\n",
        "        return returnitem\n",
        "    return lastelt\n",
        "\n",
        "def _siftup(heap, pos):\n",
        "    endpos = len(heap)\n",
        "    startpos = pos\n",
        "    newitem = heap[pos]\n",
        "    # Bubble up the smaller child until hitting a leaf.\n",
        "    childpos = 2*pos + 1    # leftmost child position\n",
        "    while childpos < endpos:\n",
        "        # Set childpos to index of smaller child.\n",
        "        rightpos = childpos + 1\n",
        "        if rightpos < endpos and not heap[childpos] < heap[rightpos]:\n",
        "            childpos = rightpos\n",
        "        # Move the smaller child up.\n",
        "        heap[pos] = heap[childpos]\n",
        "        pos = childpos\n",
        "        childpos = 2*pos + 1\n",
        "    # The leaf at pos is empty now.  Put newitem there, and bubble it up\n",
        "    # to its final resting place (by sifting its parents down).\n",
        "    heap[pos] = newitem\n",
        "    _siftdown(heap, startpos, pos)\n",
        "\n",
        "\n",
        "  "
      ],
      "execution_count": 2,
      "outputs": []
    },
    {
      "cell_type": "markdown",
      "metadata": {
        "id": "QSVa8JepIU5d"
      },
      "source": [
        "Coleta de dados dos experimentos"
      ]
    },
    {
      "cell_type": "code",
      "metadata": {
        "id": "UrHF7SQDERih",
        "colab": {
          "base_uri": "https://localhost:8080/"
        },
        "outputId": "9e7fbd9c-9661-4646-925d-576b86eb6b94"
      },
      "source": [
        "import time\n",
        "from numpy import random\n",
        "DOMAIN = 10000 ##Você deve escolher um valor mais adequado\n",
        "def avg_time(domain, tam, func, rounds, test = False): \n",
        "  sum = float(0)\n",
        "  for i in range(rounds):\n",
        "    #create a list with random numbers\n",
        "    random.seed(i)\n",
        "    L= list(random.randint(domain, size=tam))\n",
        "    #L = [random.randint(0, domain) for _ in range(tam)]\n",
        "    start = time.time()    \n",
        "    func(L) \n",
        "    end = time.time()\n",
        "    sum += end-start\n",
        "    #if test:\n",
        "      #assert L == sorted(L)\n",
        "  return sum/rounds\n",
        "\n",
        "#defines the algorithms to be processed\n",
        "algorithms = [heap_sort_in_place, heap_sort_not_in_place, bucket_sort]\n",
        "\n",
        "#defines the number of times each algorithm will be processed to find the average time\n",
        "num_rounds = 1\n",
        "\n",
        "sizes = [1000,2000,3000,4000,5000] ##você deve escolher tamanhos mais adequados\n",
        "mapSizeToTime = dict()\n",
        "for i in range(len(sizes)):\n",
        "  print(f\"Starting experiments for datasets with size={sizes[i]}, each experiment has {num_rounds} rounds.\")\n",
        "  \n",
        "  ##Map list size to algorithm average time\n",
        "  for algorithm in algorithms:      \n",
        "    mapSizeToTime[f\"{algorithm.__name__ }##{sizes[i]}\"] = avg_time(DOMAIN, sizes[i], algorithm, num_rounds, True)\n",
        "  \n",
        "print(f\"Finish data collection\")"
      ],
      "execution_count": 4,
      "outputs": [
        {
          "output_type": "stream",
          "text": [
            "Starting experiments for datasets with size=1000, each experiment has 1 rounds.\n",
            "Starting experiments for datasets with size=2000, each experiment has 1 rounds.\n",
            "Starting experiments for datasets with size=3000, each experiment has 1 rounds.\n",
            "Starting experiments for datasets with size=4000, each experiment has 1 rounds.\n",
            "Starting experiments for datasets with size=5000, each experiment has 1 rounds.\n",
            "Finish data collection\n"
          ],
          "name": "stdout"
        }
      ]
    },
    {
      "cell_type": "markdown",
      "metadata": {
        "id": "ERQNwuNtIdA7"
      },
      "source": [
        "Formata os dados do experimento para serem exibidos"
      ]
    },
    {
      "cell_type": "code",
      "metadata": {
        "id": "cJP-IzymQtk5",
        "colab": {
          "base_uri": "https://localhost:8080/",
          "height": 514
        },
        "outputId": "5198232c-3483-4084-b7f0-dd57d6f8130c"
      },
      "source": [
        "import pandas as pd\n",
        "df = pd.DataFrame.from_dict(mapSizeToTime, orient='index',columns=['Time'])\n",
        "df['Algorithm'] = [i.split(\"##\")[0] for i in df.index]\n",
        "df['Size'] = [int(i.split(\"##\")[1]) for i in df.index]\n",
        "df"
      ],
      "execution_count": 5,
      "outputs": [
        {
          "output_type": "execute_result",
          "data": {
            "text/html": [
              "<div>\n",
              "<style scoped>\n",
              "    .dataframe tbody tr th:only-of-type {\n",
              "        vertical-align: middle;\n",
              "    }\n",
              "\n",
              "    .dataframe tbody tr th {\n",
              "        vertical-align: top;\n",
              "    }\n",
              "\n",
              "    .dataframe thead th {\n",
              "        text-align: right;\n",
              "    }\n",
              "</style>\n",
              "<table border=\"1\" class=\"dataframe\">\n",
              "  <thead>\n",
              "    <tr style=\"text-align: right;\">\n",
              "      <th></th>\n",
              "      <th>Time</th>\n",
              "      <th>Algorithm</th>\n",
              "      <th>Size</th>\n",
              "    </tr>\n",
              "  </thead>\n",
              "  <tbody>\n",
              "    <tr>\n",
              "      <th>heap_sort_in_place##1000</th>\n",
              "      <td>0.006664</td>\n",
              "      <td>heap_sort_in_place</td>\n",
              "      <td>1000</td>\n",
              "    </tr>\n",
              "    <tr>\n",
              "      <th>heap_sort_not_in_place##1000</th>\n",
              "      <td>0.004343</td>\n",
              "      <td>heap_sort_not_in_place</td>\n",
              "      <td>1000</td>\n",
              "    </tr>\n",
              "    <tr>\n",
              "      <th>bucket_sort##1000</th>\n",
              "      <td>0.005187</td>\n",
              "      <td>bucket_sort</td>\n",
              "      <td>1000</td>\n",
              "    </tr>\n",
              "    <tr>\n",
              "      <th>heap_sort_in_place##2000</th>\n",
              "      <td>0.012262</td>\n",
              "      <td>heap_sort_in_place</td>\n",
              "      <td>2000</td>\n",
              "    </tr>\n",
              "    <tr>\n",
              "      <th>heap_sort_not_in_place##2000</th>\n",
              "      <td>0.009414</td>\n",
              "      <td>heap_sort_not_in_place</td>\n",
              "      <td>2000</td>\n",
              "    </tr>\n",
              "    <tr>\n",
              "      <th>bucket_sort##2000</th>\n",
              "      <td>0.014773</td>\n",
              "      <td>bucket_sort</td>\n",
              "      <td>2000</td>\n",
              "    </tr>\n",
              "    <tr>\n",
              "      <th>heap_sort_in_place##3000</th>\n",
              "      <td>0.019516</td>\n",
              "      <td>heap_sort_in_place</td>\n",
              "      <td>3000</td>\n",
              "    </tr>\n",
              "    <tr>\n",
              "      <th>heap_sort_not_in_place##3000</th>\n",
              "      <td>0.014789</td>\n",
              "      <td>heap_sort_not_in_place</td>\n",
              "      <td>3000</td>\n",
              "    </tr>\n",
              "    <tr>\n",
              "      <th>bucket_sort##3000</th>\n",
              "      <td>0.030589</td>\n",
              "      <td>bucket_sort</td>\n",
              "      <td>3000</td>\n",
              "    </tr>\n",
              "    <tr>\n",
              "      <th>heap_sort_in_place##4000</th>\n",
              "      <td>0.027047</td>\n",
              "      <td>heap_sort_in_place</td>\n",
              "      <td>4000</td>\n",
              "    </tr>\n",
              "    <tr>\n",
              "      <th>heap_sort_not_in_place##4000</th>\n",
              "      <td>0.020370</td>\n",
              "      <td>heap_sort_not_in_place</td>\n",
              "      <td>4000</td>\n",
              "    </tr>\n",
              "    <tr>\n",
              "      <th>bucket_sort##4000</th>\n",
              "      <td>0.042191</td>\n",
              "      <td>bucket_sort</td>\n",
              "      <td>4000</td>\n",
              "    </tr>\n",
              "    <tr>\n",
              "      <th>heap_sort_in_place##5000</th>\n",
              "      <td>0.038403</td>\n",
              "      <td>heap_sort_in_place</td>\n",
              "      <td>5000</td>\n",
              "    </tr>\n",
              "    <tr>\n",
              "      <th>heap_sort_not_in_place##5000</th>\n",
              "      <td>0.026690</td>\n",
              "      <td>heap_sort_not_in_place</td>\n",
              "      <td>5000</td>\n",
              "    </tr>\n",
              "    <tr>\n",
              "      <th>bucket_sort##5000</th>\n",
              "      <td>0.056378</td>\n",
              "      <td>bucket_sort</td>\n",
              "      <td>5000</td>\n",
              "    </tr>\n",
              "  </tbody>\n",
              "</table>\n",
              "</div>"
            ],
            "text/plain": [
              "                                  Time               Algorithm  Size\n",
              "heap_sort_in_place##1000      0.006664      heap_sort_in_place  1000\n",
              "heap_sort_not_in_place##1000  0.004343  heap_sort_not_in_place  1000\n",
              "bucket_sort##1000             0.005187             bucket_sort  1000\n",
              "heap_sort_in_place##2000      0.012262      heap_sort_in_place  2000\n",
              "heap_sort_not_in_place##2000  0.009414  heap_sort_not_in_place  2000\n",
              "bucket_sort##2000             0.014773             bucket_sort  2000\n",
              "heap_sort_in_place##3000      0.019516      heap_sort_in_place  3000\n",
              "heap_sort_not_in_place##3000  0.014789  heap_sort_not_in_place  3000\n",
              "bucket_sort##3000             0.030589             bucket_sort  3000\n",
              "heap_sort_in_place##4000      0.027047      heap_sort_in_place  4000\n",
              "heap_sort_not_in_place##4000  0.020370  heap_sort_not_in_place  4000\n",
              "bucket_sort##4000             0.042191             bucket_sort  4000\n",
              "heap_sort_in_place##5000      0.038403      heap_sort_in_place  5000\n",
              "heap_sort_not_in_place##5000  0.026690  heap_sort_not_in_place  5000\n",
              "bucket_sort##5000             0.056378             bucket_sort  5000"
            ]
          },
          "metadata": {
            "tags": []
          },
          "execution_count": 5
        }
      ]
    },
    {
      "cell_type": "markdown",
      "metadata": {
        "id": "EttLgpJu9NSq"
      },
      "source": [
        "Resultado do experimento (gráfico)"
      ]
    },
    {
      "cell_type": "code",
      "metadata": {
        "id": "6-fc0MDFIdQM",
        "colab": {
          "base_uri": "https://localhost:8080/",
          "height": 611
        },
        "outputId": "359119a3-d9f5-487f-ffc8-a75f3d286584"
      },
      "source": [
        "import seaborn as sns\n",
        "%matplotlib inline\n",
        "import matplotlib.pyplot as plt\n",
        "\n",
        "##Defines font size and line width\n",
        "sns.set(font_scale=1, style=\"ticks\", rc={\"lines.linewidth\": 2})\n",
        "\n",
        "##Defines plot size\n",
        "plt.rcParams['figure.figsize'] = [20, 10]\n",
        "\n",
        "g = sns.lineplot(x='Size', y='Time', hue='Algorithm', data=df)\n",
        "#g.set_yscale('log')\n",
        "g.set(xticks=[i for i in df.Size])\n",
        "plt.show()"
      ],
      "execution_count": 6,
      "outputs": [
        {
          "output_type": "display_data",
          "data": {
            "image/png": "[encoded data removed]",
            "text/plain": [
              "<Figure size 1440x720 with 1 Axes>"
            ]
          },
          "metadata": {
            "tags": []
          }
        }
      ]
    }
  ]
}